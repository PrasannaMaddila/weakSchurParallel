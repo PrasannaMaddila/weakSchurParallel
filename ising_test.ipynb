{
 "cells": [
  {
   "cell_type": "markdown",
   "metadata": {},
   "source": [
    "## Pre-requisites"
   ]
  },
  {
   "cell_type": "code",
   "execution_count": 306,
   "metadata": {},
   "outputs": [],
   "source": [
    "import numpy as np "
   ]
  },
  {
   "cell_type": "code",
   "execution_count": 312,
   "metadata": {},
   "outputs": [
    {
     "data": {
      "text/plain": [
       "array([[0, 0, 0, ..., 0, 0, 0],\n",
       "       [0, 0, 0, ..., 1, 1, 0],\n",
       "       [0, 0, 1, ..., 1, 0, 0],\n",
       "       ...,\n",
       "       [0, 1, 1, ..., 1, 1, 0],\n",
       "       [0, 1, 0, ..., 1, 0, 0],\n",
       "       [0, 0, 0, ..., 0, 0, 1]], dtype=int32)"
      ]
     },
     "execution_count": 312,
     "metadata": {},
     "output_type": "execute_result"
    }
   ],
   "source": [
    "N = 80\n",
    "x = np.random.randint(2, size=[N, N], dtype=int) \n",
    "            # the matrix of certificates \n",
    "            # x[i,j] = 1 iff same color, else 0\n",
    "# x[i,j] == x[j,i] by definition i.e. \n",
    "# the matrix is symmetric again ! \n",
    "x = (x + x.T)//2\n",
    "x"
   ]
  },
  {
   "cell_type": "markdown",
   "metadata": {},
   "source": [
    "## Defining the Hamiltonian"
   ]
  },
  {
   "cell_type": "code",
   "execution_count": 308,
   "metadata": {},
   "outputs": [],
   "source": [
    "def hamiltonian(state): \n",
    "    \"\"\"Returns the hamiltonian of the current state \n",
    "\n",
    "    Args:\n",
    "        x (np.array(int)): the matrix of certificates that describes the current\n",
    "\n",
    "    Returns:\n",
    "        (int): the value of the hamiltonian for the given state \n",
    "    \"\"\"\n",
    "    ham_sum = 0; \n",
    "    for i in range(N): \n",
    "        for j in range(N - i): \n",
    "            if i == j: \n",
    "                continue \n",
    "            ham_sum = ham_sum + state[i,j]*x[i,i+j] * (2*N - np.abs(i-j))\n",
    "            #x[i,j]*x[i,i+j] #+ x[i,j]*x[j,i+j] \n",
    "    return ham_sum"
   ]
  },
  {
   "cell_type": "code",
   "execution_count": 309,
   "metadata": {},
   "outputs": [
    {
     "name": "stdout",
     "output_type": "stream",
     "text": [
      "2965\n"
     ]
    }
   ],
   "source": [
    "print( hamiltonian(x) )"
   ]
  },
  {
   "cell_type": "markdown",
   "metadata": {},
   "source": [
    "## Simulated Annealing solution"
   ]
  },
  {
   "cell_type": "code",
   "execution_count": 310,
   "metadata": {},
   "outputs": [],
   "source": [
    "def simulated_annealing(init_state, temp=100, cost=hamiltonian):\n",
    "    best = init_state.copy()\n",
    "    best_cost = cost(best)\n",
    "    curr, curr_cost = best.copy(), best_cost \n",
    "    T = temp; \n",
    "    while T > 1e-3: \n",
    "        # Evolve the solution randomly \n",
    "        for _ in range(5):\n",
    "            i,j = np.random.randint(N, size=[2,1]);\n",
    "            i, j = int(i), int(j)\n",
    "            curr[i][j] = (1 + curr[i][j]) % 2\n",
    "            curr[j][i] = (1 + curr[j][i]) % 2\n",
    "\n",
    "        curr_cost = hamiltonian(curr)\n",
    "        if (curr_cost < best_cost) \\\n",
    "            or (np.random.random() < np.exp(-(curr_cost - best_cost)/T)): \n",
    "            best, best_cost = curr, curr_cost\n",
    "        T = T * 0.90\n",
    "    \n",
    "    return best, best_cost\n"
   ]
  },
  {
   "cell_type": "code",
   "execution_count": 313,
   "metadata": {},
   "outputs": [
    {
     "name": "stdout",
     "output_type": "stream",
     "text": [
      "Solution cost: 31417 vs. original cost: 31439\n",
      "with a %gain/loss of -0.06997678043194758%\n"
     ]
    },
    {
     "data": {
      "text/plain": [
       "array([[0, 1, 0, ..., 0, 0, 0],\n",
       "       [1, 0, 0, ..., 1, 1, 1],\n",
       "       [0, 0, 1, ..., 1, 0, 0],\n",
       "       ...,\n",
       "       [0, 1, 1, ..., 1, 1, 0],\n",
       "       [0, 1, 0, ..., 1, 0, 0],\n",
       "       [0, 1, 0, ..., 0, 0, 1]], dtype=int32)"
      ]
     },
     "execution_count": 313,
     "metadata": {},
     "output_type": "execute_result"
    }
   ],
   "source": [
    "solution, sol_cost = simulated_annealing(x)\n",
    "base_cost = hamiltonian(x)\n",
    "print(f'Solution cost: {sol_cost} vs. original cost: {base_cost}')\n",
    "print(f'with a %gain/loss of {100*(sol_cost - base_cost)/base_cost}%')\n",
    "solution"
   ]
  },
  {
   "cell_type": "markdown",
   "metadata": {},
   "source": [
    "# Percentage reduction of costs"
   ]
  },
  {
   "cell_type": "code",
   "execution_count": 265,
   "metadata": {},
   "outputs": [],
   "source": [
    "import matplotlib.pyplot as plt "
   ]
  },
  {
   "cell_type": "code",
   "execution_count": 274,
   "metadata": {},
   "outputs": [
    {
     "name": "stdout",
     "output_type": "stream",
     "text": [
      "Solution:  {10: 48, 35: 75, 60: 65, 85: 83, 110: 54, 135: 77, 160: 56, 185: 79}\n",
      "Base:  {10: 29, 35: 124, 60: 42, 85: 79, 110: 36, 135: 135, 160: 79, 185: 108}\n"
     ]
    }
   ],
   "source": [
    "sol = {}; sol_costs = {}\n",
    "base = {}; base_costs = {}\n",
    "temp = 0 \n",
    "for nN in range(10, 200, 25):\n",
    "    temp = np.random.randint(2, size=[nN, nN], dtype=int) \n",
    "    temp = (temp + temp.T)//2\n",
    "    base[nN] = temp; \n",
    "    base_costs[nN] = hamiltonian(temp); \n",
    "    sol[nN], sol_costs[nN] = simulated_annealing(temp)\n",
    "print('Solution: ', sol_costs)\n",
    "print('Base: ', base_costs)"
   ]
  },
  {
   "cell_type": "code",
   "execution_count": 275,
   "metadata": {},
   "outputs": [
    {
     "data": {
      "image/png": "[encoded data removed]",
      "text/plain": [
       "<Figure size 432x288 with 1 Axes>"
      ]
     },
     "metadata": {
      "needs_background": "light"
     },
     "output_type": "display_data"
    }
   ],
   "source": [
    "list_sol = sorted(sol_costs.items())\n",
    "sx, sy = zip(*list_sol)\n",
    "plt.plot(sx, sy, label='s')\n",
    "list_base = sorted(base_costs.items())\n",
    "bx, by = zip(*list_base)\n",
    "plt.plot(bx, by, label='b')\n",
    "plt.legend(['Solution Cost', 'Original cost'])\n",
    "plt.grid()\n",
    "plt.show()"
   ]
  },
  {
   "cell_type": "code",
   "execution_count": 276,
   "metadata": {},
   "outputs": [
    {
     "data": {
      "text/plain": [
       "Text(0.5, 1.0, 'Percentage gain')"
      ]
     },
     "execution_count": 276,
     "metadata": {},
     "output_type": "execute_result"
    },
    {
     "data": {
      "image/png": "[encoded data removed]",
      "text/plain": [
       "<Figure size 432x288 with 1 Axes>"
      ]
     },
     "metadata": {
      "needs_background": "light"
     },
     "output_type": "display_data"
    }
   ],
   "source": [
    "percentage_gain = [ (sy[i] - by[i])/by[i] for i in range(len(by))]\n",
    "percentage_gain\n",
    "plt.plot(bx , percentage_gain)\n",
    "plt.grid()\n",
    "plt.title('Percentage gain')"
   ]
  },
  {
   "cell_type": "code",
   "execution_count": 269,
   "metadata": {},
   "outputs": [],
   "source": [
    "def decode(x): \n",
    "    list_colors = {1: 1}\n",
    "    for number in range(1, N): # already assigned the first model \n",
    "        pass "
   ]
  }
 ],
 "metadata": {
  "interpreter": {
   "hash": "8e284ee3255a07ad8bf76694974743c4c81cb57e7c969474d752d949b11d721e"
  },
  "kernelspec": {
   "display_name": "Python 3.9.13 64-bit",
   "language": "python",
   "name": "python3"
  },
  "language_info": {
   "codemirror_mode": {
    "name": "ipython",
    "version": 3
   },
   "file_extension": ".py",
   "mimetype": "text/x-python",
   "name": "python",
   "nbconvert_exporter": "python",
   "pygments_lexer": "ipython3",
   "version": "3.9.13"
  },
  "orig_nbformat": 4
 },
 "nbformat": 4,
 "nbformat_minor": 2
}
